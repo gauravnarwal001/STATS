{
 "cells": [
  {
   "cell_type": "code",
   "execution_count": 1,
   "id": "669148f5",
   "metadata": {},
   "outputs": [],
   "source": [
    "import numpy as np\n",
    "import pandas as pd\n",
    "import seaborn as sns\n",
    "import matplotlib.pyplot as plt\n",
    "from scipy import stats\n",
    "from statistics import mean, median, mode, stdev, variance\n",
    "from math import sqrt"
   ]
  },
  {
   "cell_type": "raw",
   "id": "cbbb0dab",
   "metadata": {},
   "source": [
    "Question 1: Generate a list of 100 integers and calculate various statistical measures\n"
   ]
  },
  {
   "cell_type": "code",
   "execution_count": 2,
   "id": "c482ce17",
   "metadata": {},
   "outputs": [
    {
     "name": "stdout",
     "output_type": "stream",
     "text": [
      "Mean: 109\n",
      "Median: 109.0\n",
      "Mode: 113\n",
      "Weighted Mean: 109.96571428571428\n",
      "Geometric Mean: 109.00094690859389\n",
      "Harmonic Mean: 108.40344622327048\n",
      "Midrange: 109.5\n",
      "Trimmed Mean (10%): 109.525\n"
     ]
    }
   ],
   "source": [
    "# Generate a list of 100 integers between 90 and 130\n",
    "int_list = np.random.randint(90, 130, 100)\n",
    "\n",
    "# (i) Mean and Median\n",
    "def calculate_mean(numbers):\n",
    "    return mean(numbers)\n",
    "\n",
    "def calculate_median(numbers):\n",
    "    return median(numbers)\n",
    "\n",
    "print(\"Mean:\", calculate_mean(int_list))\n",
    "print(\"Median:\", calculate_median(int_list))\n",
    "\n",
    "# (ii) Mode\n",
    "def calculate_mode(numbers):\n",
    "    return mode(numbers)\n",
    "\n",
    "print(\"Mode:\", calculate_mode(int_list))\n",
    "\n",
    "# (iii) Weighted Mean\n",
    "def calculate_weighted_mean(values, weights):\n",
    "    return np.average(values, weights=weights)\n",
    "\n",
    "weights = np.random.randint(1, 10, 100)\n",
    "print(\"Weighted Mean:\", calculate_weighted_mean(int_list, weights))\n",
    "\n",
    "# (iv) Geometric Mean\n",
    "def calculate_geometric_mean(numbers):\n",
    "    return stats.gmean(numbers)\n",
    "\n",
    "print(\"Geometric Mean:\", calculate_geometric_mean(int_list))\n",
    "\n",
    "# (v) Harmonic Mean\n",
    "def calculate_harmonic_mean(numbers):\n",
    "    return stats.hmean(numbers)\n",
    "\n",
    "print(\"Harmonic Mean:\", calculate_harmonic_mean(int_list))\n",
    "\n",
    "# (vi) Midrange\n",
    "def calculate_midrange(numbers):\n",
    "    return (max(numbers) + min(numbers)) / 2\n",
    "\n",
    "print(\"Midrange:\", calculate_midrange(int_list))\n",
    "\n",
    "# (vii) Trimmed Mean\n",
    "def calculate_trimmed_mean(numbers, percent):\n",
    "    return stats.trim_mean(numbers, percent)\n",
    "\n",
    "print(\"Trimmed Mean (10%):\", calculate_trimmed_mean(int_list, 0.1))"
   ]
  },
  {
   "cell_type": "raw",
   "id": "8bf1c8bf",
   "metadata": {},
   "source": [
    "Question 2: Generate a list of 500 integers and perform statistical analysis\n"
   ]
  },
  {
   "cell_type": "code",
   "execution_count": 3,
   "id": "6f28c50b",
   "metadata": {},
   "outputs": [
    {
     "data": {
      "image/png": "[encoded data removed]",
      "text/plain": [
       "<Figure size 640x480 with 1 Axes>"
      ]
     },
     "metadata": {},
     "output_type": "display_data"
    },
    {
     "name": "stdout",
     "output_type": "stream",
     "text": [
      "Range: 99\n",
      "Variance: 849\n",
      "Standard Deviation: 29.13760456866693\n",
      "IQR: 51.0\n",
      "Coefficient of Variation: 11.655041827466771\n",
      "Mean Absolute Deviation: 25.611559999999997\n",
      "Quartile Deviation: 25.5\n",
      "Range-based Coefficient of Dispersion: 19.839679358717436\n"
     ]
    }
   ],
   "source": [
    "# Generate a list of 500 integers between 200 and 300\n",
    "int_list2 = np.random.randint(200, 300, 500)\n",
    "\n",
    "# (i) Visualization\n",
    "sns.histplot(int_list2, kde=True)\n",
    "plt.title(\"Frequency & Gaussian Distribution\")\n",
    "plt.show()\n",
    "\n",
    "# (ii) Range\n",
    "def calculate_range(numbers):\n",
    "    return max(numbers) - min(numbers)\n",
    "\n",
    "print(\"Range:\", calculate_range(int_list2))\n",
    "\n",
    "# (iii) Variance and Standard Deviation\n",
    "def calculate_variance(numbers):\n",
    "    return variance(numbers)\n",
    "\n",
    "def calculate_std_dev(numbers):\n",
    "    return stdev(numbers)\n",
    "\n",
    "print(\"Variance:\", calculate_variance(int_list2))\n",
    "print(\"Standard Deviation:\", calculate_std_dev(int_list2))\n",
    "\n",
    "# (iv) Interquartile Range (IQR)\n",
    "def calculate_iqr(numbers):\n",
    "    return np.percentile(numbers, 75) - np.percentile(numbers, 25)\n",
    "\n",
    "print(\"IQR:\", calculate_iqr(int_list2))\n",
    "\n",
    "# (v) Coefficient of Variation\n",
    "def calculate_coefficient_of_variation(numbers):\n",
    "    return (stdev(numbers) / mean(numbers)) * 100\n",
    "\n",
    "print(\"Coefficient of Variation:\", calculate_coefficient_of_variation(int_list2))\n",
    "\n",
    "# (vi) Mean Absolute Deviation (MAD)\n",
    "def calculate_mad(numbers):\n",
    "    return np.mean(np.abs(numbers - np.mean(numbers)))\n",
    "\n",
    "print(\"Mean Absolute Deviation:\", calculate_mad(int_list2))\n",
    "\n",
    "# (vii) Quartile Deviation\n",
    "def calculate_quartile_deviation(numbers):\n",
    "    return calculate_iqr(numbers) / 2\n",
    "\n",
    "print(\"Quartile Deviation:\", calculate_quartile_deviation(int_list2))\n",
    "\n",
    "# (viii) Range-based Coefficient of Dispersion\n",
    "def calculate_range_coefficient_of_dispersion(numbers):\n",
    "    return (calculate_range(numbers) / (max(numbers) + min(numbers))) * 100\n",
    "\n",
    "print(\"Range-based Coefficient of Dispersion:\", calculate_range_coefficient_of_dispersion(int_list2))"
   ]
  },
  {
   "cell_type": "raw",
   "id": "4de6a188",
   "metadata": {},
   "source": [
    "Question 3: Discrete Random Variable Class\n"
   ]
  },
  {
   "cell_type": "code",
   "execution_count": 4,
   "id": "018558da",
   "metadata": {},
   "outputs": [
    {
     "name": "stdout",
     "output_type": "stream",
     "text": [
      "Expected Value: 3.0\n",
      "Variance: 1.0\n"
     ]
    }
   ],
   "source": [
    "class DiscreteRandomVariable:\n",
    "    def __init__(self, values, probabilities):\n",
    "        self.values = values\n",
    "        self.probabilities = probabilities\n",
    "\n",
    "    def expected_value(self):\n",
    "        return np.sum(self.values * self.probabilities)\n",
    "\n",
    "    def variance(self):\n",
    "        return np.sum((self.values - self.expected_value())**2 * self.probabilities)\n",
    "\n",
    "# Example usage\n",
    "values = np.array([1, 2, 3, 4])\n",
    "probabilities = np.array([0.1, 0.2, 0.3, 0.4])\n",
    "drv = DiscreteRandomVariable(values, probabilities)\n",
    "print(\"Expected Value:\", drv.expected_value())\n",
    "print(\"Variance:\", drv.variance())"
   ]
  },
  {
   "cell_type": "raw",
   "id": "d3b77ad9",
   "metadata": {},
   "source": [
    "Question 4: Simulate Rolling a Fair Six-sided Die\n"
   ]
  },
  {
   "cell_type": "code",
   "execution_count": 5,
   "id": "9518db6b",
   "metadata": {},
   "outputs": [
    {
     "name": "stdout",
     "output_type": "stream",
     "text": [
      "Expected Value: 3.593\n",
      "Variance: 2.8673510000000006\n"
     ]
    }
   ],
   "source": [
    "# Simulate rolling a die 1000 times\n",
    "outcomes = np.random.randint(1, 7, 1000)\n",
    "\n",
    "# Calculate expected value and variance\n",
    "expected_value = np.mean(outcomes)\n",
    "variance = np.var(outcomes)\n",
    "\n",
    "print(\"Expected Value:\", expected_value)\n",
    "print(\"Variance:\", variance)"
   ]
  },
  {
   "cell_type": "raw",
   "id": "3a35b65f",
   "metadata": {},
   "source": [
    "Question 5: Generate Random Samples from a Probability Distribution\n"
   ]
  },
  {
   "cell_type": "code",
   "execution_count": 6,
   "id": "bb372950",
   "metadata": {},
   "outputs": [
    {
     "name": "stdout",
     "output_type": "stream",
     "text": [
      "Mean of Binomial Samples: 5.016\n",
      "Variance of Binomial Samples: 2.535744\n"
     ]
    }
   ],
   "source": [
    "# Generate random samples from a binomial distribution\n",
    "n, p = 10, 0.5\n",
    "binomial_samples = np.random.binomial(n, p, 1000)\n",
    "\n",
    "print(\"Mean of Binomial Samples:\", np.mean(binomial_samples))\n",
    "print(\"Variance of Binomial Samples:\", np.var(binomial_samples))"
   ]
  },
  {
   "cell_type": "raw",
   "id": "21d61830",
   "metadata": {},
   "source": [
    "Question 6: Generate Random Numbers from a Gaussian Distribution\n"
   ]
  },
  {
   "cell_type": "code",
   "execution_count": 7,
   "id": "1417a2a0",
   "metadata": {},
   "outputs": [
    {
     "name": "stdout",
     "output_type": "stream",
     "text": [
      "Mean: 0.017505725757695188\n",
      "Variance: 0.9632290636937356\n",
      "Standard Deviation: 0.9814423384456856\n"
     ]
    }
   ],
   "source": [
    "# Generate random numbers from a Gaussian distribution\n",
    "gaussian_samples = np.random.normal(0, 1, 1000)\n",
    "\n",
    "print(\"Mean:\", np.mean(gaussian_samples))\n",
    "print(\"Variance:\", np.var(gaussian_samples))\n",
    "print(\"Standard Deviation:\", np.std(gaussian_samples))"
   ]
  },
  {
   "cell_type": "raw",
   "id": "aced28e8",
   "metadata": {},
   "source": [
    "Question 7: Analyze tips Dataset\n"
   ]
  },
  {
   "cell_type": "code",
   "execution_count": 8,
   "id": "a9c137fa",
   "metadata": {},
   "outputs": [
    {
     "name": "stdout",
     "output_type": "stream",
     "text": [
      "Skewness of total_bill: 1.1262346334818638\n",
      "Skewness of tip: 1.4564266884221506\n",
      "Skewness Type of total_bill: Positive Skewness\n",
      "Skewness Type of tip: Positive Skewness\n",
      "Covariance between total_bill and tip: 8.323501629224854\n",
      "Pearson Correlation Coefficient: 0.6757341092113642\n"
     ]
    },
    {
     "data": {
      "image/png": "[encoded data removed]",
      "text/plain": [
       "<Figure size 640x480 with 1 Axes>"
      ]
     },
     "metadata": {},
     "output_type": "display_data"
    }
   ],
   "source": [
    "# Load the tips dataset\n",
    "tips = sns.load_dataset('tips')\n",
    "\n",
    "# (i) Skewness\n",
    "def calculate_skewness(data):\n",
    "    return stats.skew(data)\n",
    "\n",
    "print(\"Skewness of total_bill:\", calculate_skewness(tips['total_bill']))\n",
    "print(\"Skewness of tip:\", calculate_skewness(tips['tip']))\n",
    "\n",
    "# (ii) Determine skewness type\n",
    "def skewness_type(skewness):\n",
    "    if skewness > 0:\n",
    "        return \"Positive Skewness\"\n",
    "    elif skewness < 0:\n",
    "        return \"Negative Skewness\"\n",
    "    else:\n",
    "        return \"Approximately Symmetric\"\n",
    "\n",
    "print(\"Skewness Type of total_bill:\", skewness_type(calculate_skewness(tips['total_bill'])))\n",
    "print(\"Skewness Type of tip:\", skewness_type(calculate_skewness(tips['tip'])))\n",
    "\n",
    "# (iii) Covariance\n",
    "def calculate_covariance(col1, col2):\n",
    "    return np.cov(col1, col2)[0, 1]\n",
    "\n",
    "print(\"Covariance between total_bill and tip:\", calculate_covariance(tips['total_bill'], tips['tip']))\n",
    "\n",
    "# (iv) Pearson Correlation Coefficient\n",
    "def calculate_pearson_correlation(col1, col2):\n",
    "    return stats.pearsonr(col1, col2)[0]\n",
    "\n",
    "print(\"Pearson Correlation Coefficient:\", calculate_pearson_correlation(tips['total_bill'], tips['tip']))\n",
    "\n",
    "# (v) Scatter Plot\n",
    "sns.scatterplot(x='total_bill', y='tip', data=tips)\n",
    "plt.title(\"Scatter Plot of Total Bill vs Tip\")\n",
    "plt.show()"
   ]
  },
  {
   "cell_type": "raw",
   "id": "1d33182b",
   "metadata": {},
   "source": [
    "Question 8: Probability Density Function (PDF) of a Normal Distribution\n"
   ]
  },
  {
   "cell_type": "code",
   "execution_count": 9,
   "id": "17be945f",
   "metadata": {},
   "outputs": [
    {
     "name": "stdout",
     "output_type": "stream",
     "text": [
      "PDF at x=0: 0.3989422804014327\n"
     ]
    }
   ],
   "source": [
    "def calculate_pdf(x, mean, std_dev):\n",
    "    return stats.norm.pdf(x, mean, std_dev)\n",
    "\n",
    "# Example usage\n",
    "print(\"PDF at x=0:\", calculate_pdf(0, 0, 1))"
   ]
  },
  {
   "cell_type": "raw",
   "id": "cc54b6c2",
   "metadata": {},
   "source": [
    "Question 9: Cumulative Distribution Function (CDF) of Exponential Distribution\n"
   ]
  },
  {
   "cell_type": "code",
   "execution_count": 10,
   "id": "44a7b3ba",
   "metadata": {},
   "outputs": [
    {
     "name": "stdout",
     "output_type": "stream",
     "text": [
      "CDF at x=1: 0.6321205588285577\n"
     ]
    }
   ],
   "source": [
    "def calculate_cdf(x, rate):\n",
    "    return stats.expon.cdf(x, scale=1/rate)\n",
    "\n",
    "# Example usage\n",
    "print(\"CDF at x=1:\", calculate_cdf(1, 1))"
   ]
  },
  {
   "cell_type": "code",
   "execution_count": null,
   "id": "a6662bd4",
   "metadata": {},
   "outputs": [],
   "source": []
  },
  {
   "cell_type": "code",
   "execution_count": 11,
   "id": "63cc8762",
   "metadata": {},
   "outputs": [
    {
     "name": "stdout",
     "output_type": "stream",
     "text": [
      "PMF at k=2: 0.22404180765538775\n"
     ]
    }
   ],
   "source": [
    "# 10\n",
    "\n",
    "def calculate_pmf(k, mu):\n",
    "    return stats.poisson.pmf(k, mu)\n",
    "\n",
    "# Example usage\n",
    "print(\"PMF at k=2:\", calculate_pmf(2, 3))\n"
   ]
  },
  {
   "cell_type": "code",
   "execution_count": null,
   "id": "b70903fd",
   "metadata": {},
   "outputs": [],
   "source": []
  },
  {
   "cell_type": "code",
   "execution_count": 12,
   "id": "95ec5b4e",
   "metadata": {},
   "outputs": [
    {
     "name": "stdout",
     "output_type": "stream",
     "text": [
      "Z-score: -4.593190894944668\n",
      "P-value: 0.0013030932910086035\n"
     ]
    }
   ],
   "source": [
    "# Generate data\n",
    "before_program = np.array([75, 80, 85, 70, 90, 78, 92, 88, 82, 87])\n",
    "after_program = np.array([80, 85, 90, 80, 92, 80, 95, 90, 85, 88])\n",
    "\n",
    "# Perform Z-test\n",
    "z_score, p_value = stats.ttest_rel(before_program, after_program)\n",
    "\n",
    "print(\"Z-score:\", z_score)\n",
    "print(\"P-value:\", p_value)"
   ]
  },
  {
   "cell_type": "code",
   "execution_count": null,
   "id": "a3fff67a",
   "metadata": {},
   "outputs": [],
   "source": []
  },
  {
   "cell_type": "code",
   "execution_count": 13,
   "id": "06e2ed45",
   "metadata": {},
   "outputs": [
    {
     "name": "stdout",
     "output_type": "stream",
     "text": [
      "Z-score: 10.04987562112089\n",
      "P-value: 3.433031432681152e-06\n"
     ]
    }
   ],
   "source": [
    "# Generate data\n",
    "before_drug = np.array([145, 150, 140, 135, 155, 160, 152, 148, 130, 138])\n",
    "after_drug = np.array([130, 140, 132, 128, 145, 148, 138, 136, 125, 130])\n",
    "\n",
    "# Perform Z-test\n",
    "z_score, p_value = stats.ttest_rel(before_drug, after_drug)\n",
    "\n",
    "print(\"Z-score:\", z_score)\n",
    "print(\"P-value:\", p_value)"
   ]
  },
  {
   "cell_type": "code",
   "execution_count": null,
   "id": "a519592b",
   "metadata": {},
   "outputs": [],
   "source": []
  },
  {
   "cell_type": "code",
   "execution_count": 14,
   "id": "05f80270",
   "metadata": {},
   "outputs": [
    {
     "name": "stdout",
     "output_type": "stream",
     "text": [
      "Z-score: -3.1844572260429627\n",
      "P-value: 0.011104982316785018\n"
     ]
    }
   ],
   "source": [
    "# Generate data\n",
    "response_times = np.array([4.3, 3.8, 5.1, 4.9, 4.7, 4.2, 5.2, 4.5, 4.6, 4.4])\n",
    "\n",
    "# Perform Z-test\n",
    "z_score, p_value = stats.ttest_1samp(response_times, 5)\n",
    "\n",
    "print(\"Z-score:\", z_score)\n",
    "print(\"P-value:\", p_value)"
   ]
  },
  {
   "cell_type": "code",
   "execution_count": null,
   "id": "83ca3443",
   "metadata": {},
   "outputs": [],
   "source": []
  },
  {
   "cell_type": "code",
   "execution_count": 15,
   "id": "d14417ff",
   "metadata": {},
   "outputs": [
    {
     "name": "stdout",
     "output_type": "stream",
     "text": [
      "T-statistic: -7.298102156175071\n",
      "P-value: 8.833437608301987e-07\n"
     ]
    }
   ],
   "source": [
    "# Generate data\n",
    "layout_a_clicks = [28, 32, 33, 29, 31, 34, 30, 35, 36, 37]\n",
    "layout_b_clicks = [40, 41, 38, 42, 39, 44, 43, 41, 45, 47]\n",
    "\n",
    "# Perform t-test\n",
    "t_stat, p_value = stats.ttest_ind(layout_a_clicks, layout_b_clicks)\n",
    "\n",
    "print(\"T-statistic:\", t_stat)\n",
    "print(\"P-value:\", p_value)"
   ]
  },
  {
   "cell_type": "code",
   "execution_count": null,
   "id": "00893875",
   "metadata": {},
   "outputs": [],
   "source": []
  },
  {
   "cell_type": "code",
   "execution_count": 16,
   "id": "da06cdba",
   "metadata": {},
   "outputs": [
    {
     "name": "stdout",
     "output_type": "stream",
     "text": [
      "T-statistic: 4.14048098620866\n",
      "P-value: 0.0006143398442372505\n"
     ]
    }
   ],
   "source": [
    "# Generate data\n",
    "existing_drug_levels = [180, 182, 175, 185, 178, 176, 172, 184, 179, 183]\n",
    "new_drug_levels = [170, 172, 165, 168, 175, 173, 170, 178, 172, 176]\n",
    "\n",
    "# Perform t-test\n",
    "t_stat, p_value = stats.ttest_ind(existing_drug_levels, new_drug_levels)\n",
    "\n",
    "print(\"T-statistic:\", t_stat)\n",
    "print(\"P-value:\", p_value)"
   ]
  },
  {
   "cell_type": "code",
   "execution_count": null,
   "id": "78c26ff3",
   "metadata": {},
   "outputs": [],
   "source": []
  },
  {
   "cell_type": "code",
   "execution_count": 17,
   "id": "cefd6c1e",
   "metadata": {},
   "outputs": [
    {
     "name": "stdout",
     "output_type": "stream",
     "text": [
      "T-statistic: -4.42840883965761\n",
      "P-value: 0.0016509548165795493\n"
     ]
    }
   ],
   "source": [
    "# Generate data\n",
    "pre_intervention_scores = [80, 85, 90, 75, 88, 82, 92, 78, 85, 87]\n",
    "post_intervention_scores = [90, 92, 88, 92, 95, 91, 96, 93, 89, 93]\n",
    "\n",
    "# Perform t-test\n",
    "t_stat, p_value = stats.ttest_rel(pre_intervention_scores, post_intervention_scores)\n",
    "\n",
    "print(\"T-statistic:\", t_stat)\n",
    "print(\"P-value:\", p_value)"
   ]
  },
  {
   "cell_type": "code",
   "execution_count": null,
   "id": "4dfdf989",
   "metadata": {},
   "outputs": [],
   "source": []
  },
  {
   "cell_type": "code",
   "execution_count": 18,
   "id": "dff7c083",
   "metadata": {},
   "outputs": [
    {
     "name": "stdout",
     "output_type": "stream",
     "text": [
      "T-statistic: 0.06114208969631383\n",
      "P-value: 0.9515665020676465\n"
     ]
    }
   ],
   "source": [
    "# Generate synthetic salary data\n",
    "np.random.seed(0)\n",
    "male_salaries = np.random.normal(loc=50000, scale=10000, size=20)\n",
    "female_salaries = np.random.normal(loc=55000, scale=9000, size=20)\n",
    "\n",
    "# Perform t-test\n",
    "t_stat, p_value = stats.ttest_ind(male_salaries, female_salaries)\n",
    "\n",
    "print(\"T-statistic:\", t_stat)\n",
    "print(\"P-value:\", p_value)"
   ]
  },
  {
   "cell_type": "code",
   "execution_count": null,
   "id": "c6e8868b",
   "metadata": {},
   "outputs": [],
   "source": []
  },
  {
   "cell_type": "code",
   "execution_count": 19,
   "id": "1ba44bdb",
   "metadata": {},
   "outputs": [
    {
     "name": "stdout",
     "output_type": "stream",
     "text": [
      "T-statistic: 11.325830417646698\n",
      "P-value: 3.6824250702873965e-15\n"
     ]
    }
   ],
   "source": [
    "# Generate data\n",
    "version1_scores = [85, 88, 82, 89, 87, 84, 90, 88, 85, 86, 91, 83, 87, 84, 89, 86, 84, 88, 85, 86, 89, 90, 87, 88, 85]\n",
    "version2_scores = [80, 78, 83, 81, 79, 82, 76, 80, 78, 81, 77, 82, 80, 79, 82, 79, 80, 81, 79, 82, 79, 78, 80, 81, 82]\n",
    "\n",
    "# Perform t-test\n",
    "t_stat, p_value = stats.ttest_ind(version1_scores, version2_scores)\n",
    "\n",
    "print(\"T-statistic:\", t_stat)\n",
    "print(\"P-value:\", p_value)"
   ]
  },
  {
   "cell_type": "code",
   "execution_count": null,
   "id": "68d022ac",
   "metadata": {},
   "outputs": [],
   "source": []
  },
  {
   "cell_type": "code",
   "execution_count": 20,
   "id": "a94b5e10",
   "metadata": {},
   "outputs": [
    {
     "name": "stdout",
     "output_type": "stream",
     "text": [
      "T-statistic: 5.545336610193947\n",
      "P-value: 6.684574566558444e-07\n"
     ]
    }
   ],
   "source": [
    "# Generate data\n",
    "branch_a_scores = [4, 5, 3, 4, 5, 4, 5, 3, 4, 4, 5, 4, 4, 3, 4, 5, 5, 4, 3, 4, 5, 4, 4, 3, 5, 4, 4, 5, 3, 4, 5, 4]\n",
    "branch_b_scores = [3, 4, 2, 3, 4, 3, 4, 2, 3, 3, 4, 3, 3, 2, 3, 4, 4, 3, 2, 3, 4, 3, 2, 4, 3, 3, 4, 2, 3, 4, 3]\n",
    "\n",
    "# Perform t-test\n",
    "t_stat, p_value = stats.ttest_ind(branch_a_scores, branch_b_scores)\n",
    "\n",
    "print(\"T-statistic:\", t_stat)\n",
    "print(\"P-value:\", p_value)"
   ]
  },
  {
   "cell_type": "code",
   "execution_count": null,
   "id": "851cc621",
   "metadata": {},
   "outputs": [],
   "source": []
  },
  {
   "cell_type": "code",
   "execution_count": 21,
   "id": "4ad80e5f",
   "metadata": {},
   "outputs": [
    {
     "name": "stdout",
     "output_type": "stream",
     "text": [
      "Chi-Square Statistic: 0.8779923945254768\n",
      "P-value: 0.6446832311860852\n"
     ]
    }
   ],
   "source": [
    "# Generate data\n",
    "np.random.seed(0)\n",
    "age_groups = np.random.choice(['18-30', '31-50', '51+'], size=500)\n",
    "voter_preferences = np.random.choice(['Candidate A', 'Candidate B'], size=500)\n",
    "\n",
    "# Create a contingency table\n",
    "contingency_table = pd.crosstab(age_groups, voter_preferences)\n",
    "\n",
    "# Perform Chi-Square test\n",
    "chi2, p_value, dof, expected = stats.chi2_contingency(contingency_table)\n",
    "\n",
    "print(\"Chi-Square Statistic:\", chi2)\n",
    "print(\"P-value:\", p_value)"
   ]
  },
  {
   "cell_type": "code",
   "execution_count": null,
   "id": "85bfaed5",
   "metadata": {},
   "outputs": [],
   "source": []
  },
  {
   "cell_type": "code",
   "execution_count": 22,
   "id": "5af125f1",
   "metadata": {},
   "outputs": [
    {
     "name": "stdout",
     "output_type": "stream",
     "text": [
      "Chi-Square Statistic: 27.777056277056275\n",
      "P-value: 0.00010349448486004387\n"
     ]
    }
   ],
   "source": [
    "# Sample data\n",
    "data = np.array([[50, 30, 40, 20], [30, 40, 30, 50], [20, 30, 40, 30]])\n",
    "\n",
    "# Perform Chi-Square test\n",
    "chi2, p_value, dof, expected = stats.chi2_contingency(data)\n",
    "\n",
    "print(\"Chi-Square Statistic:\", chi2)\n",
    "print(\"P-value:\", p_value)"
   ]
  },
  {
   "cell_type": "code",
   "execution_count": null,
   "id": "49d20d8a",
   "metadata": {},
   "outputs": [],
   "source": []
  },
  {
   "cell_type": "code",
   "execution_count": 23,
   "id": "e5632507",
   "metadata": {},
   "outputs": [
    {
     "name": "stdout",
     "output_type": "stream",
     "text": [
      "Chi-Square Statistic: 22.161728395061726\n",
      "P-value: 0.00018609719479882557\n"
     ]
    }
   ],
   "source": [
    "# Sample data\n",
    "data = np.array([[50, 30, 20], [30, 40, 30], [20, 30, 40]])\n",
    "\n",
    "# Perform Chi-Square test\n",
    "chi2, p_value, dof, expected = stats.chi2_contingency(data)\n",
    "\n",
    "print(\"Chi-Square Statistic:\", chi2)\n",
    "print(\"P-value:\", p_value)"
   ]
  },
  {
   "cell_type": "code",
   "execution_count": null,
   "id": "07a3daf6",
   "metadata": {},
   "outputs": [],
   "source": []
  },
  {
   "cell_type": "code",
   "execution_count": 24,
   "id": "7cd52800",
   "metadata": {},
   "outputs": [
    {
     "name": "stdout",
     "output_type": "stream",
     "text": [
      "F-statistic: 27.03556231003039\n",
      "P-value: 3.5786328857349003e-07\n"
     ]
    }
   ],
   "source": [
    "# Sample data\n",
    "standard_scores = [80, 85, 90, 78, 88, 82, 92, 78, 85, 87]\n",
    "premium_scores = [90, 92, 88, 92, 95, 91, 96, 93, 89, 93]\n",
    "deluxe_scores = [95, 98, 92, 97, 96, 94, 98, 97, 92, 99]\n",
    "\n",
    "# Perform ANOVA test\n",
    "f_stat, p_value = stats.f_oneway(standard_scores, premium_scores, deluxe_scores)\n",
    "\n",
    "print(\"F-statistic:\", f_stat)\n",
    "print(\"P-value:\", p_value)"
   ]
  },
  {
   "cell_type": "code",
   "execution_count": null,
   "id": "f17b7697",
   "metadata": {},
   "outputs": [],
   "source": []
  },
  {
   "cell_type": "code",
   "execution_count": null,
   "id": "8f6e5887",
   "metadata": {},
   "outputs": [],
   "source": []
  }
 ],
 "metadata": {
  "kernelspec": {
   "display_name": "Python 3 (ipykernel)",
   "language": "python",
   "name": "python3"
  },
  "language_info": {
   "codemirror_mode": {
    "name": "ipython",
    "version": 3
   },
   "file_extension": ".py",
   "mimetype": "text/x-python",
   "name": "python",
   "nbconvert_exporter": "python",
   "pygments_lexer": "ipython3",
   "version": "3.9.13"
  }
 },
 "nbformat": 4,
 "nbformat_minor": 5
}
