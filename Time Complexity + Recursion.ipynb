{
 "cells": [
  {
   "cell_type": "markdown",
   "id": "325fdb31",
   "metadata": {},
   "source": [
    "# P1\n",
    "\n",
    "Time Complexity:\n",
    "The time complexity of quicksort is O(n log n) on average, but it can degrade to O(n^2) in the worst case (e.g., when the pivot is always the smallest or largest element).\n",
    "\n"
   ]
  },
  {
   "cell_type": "markdown",
   "id": "4cce5d63",
   "metadata": {},
   "source": [
    "## P2\n",
    "Time Complexity:\n",
    "The time complexity of this nested loop is O(rows * cols), which is O(n^2) if the matrix is square (i.e., rows = cols).\n",
    "\n"
   ]
  },
  {
   "cell_type": "markdown",
   "id": "bcff6a56",
   "metadata": {},
   "source": [
    "# P3\n",
    "\n",
    "Time Complexity:\n",
    "The time complexity of this function is O(n), where n is the length of the array."
   ]
  },
  {
   "cell_type": "markdown",
   "id": "8d2438b4",
   "metadata": {},
   "source": [
    "Time Complexity:\n",
    "The time complexity of this function is O(n^2), where n is the length of the input list.\n",
    "\n"
   ]
  },
  {
   "cell_type": "markdown",
   "id": "e022d142",
   "metadata": {},
   "source": [
    "Time Complexity:\n",
    "The time complexity of this function is O(n^2), where n is the length of the input array."
   ]
  },
  {
   "cell_type": "markdown",
   "id": "eda58b1e",
   "metadata": {},
   "source": [
    "Example:\n",
    "sum_of_digits(123) should return 6."
   ]
  },
  {
   "cell_type": "markdown",
   "id": "2b7b1df2",
   "metadata": {},
   "source": [
    "Example:\n",
    "fibonacci_series(6) should return [0, 1, 1, 2, 3, 5]."
   ]
  },
  {
   "cell_type": "markdown",
   "id": "90c2e0f9",
   "metadata": {},
   "source": []
  },
  {
   "cell_type": "markdown",
   "id": "aca3decf",
   "metadata": {},
   "source": []
  },
  {
   "cell_type": "markdown",
   "id": "9333730d",
   "metadata": {},
   "source": []
  },
  {
   "cell_type": "markdown",
   "id": "30256d5c",
   "metadata": {},
   "source": []
  },
  {
   "cell_type": "markdown",
   "id": "dec39b2b",
   "metadata": {},
   "source": []
  },
  {
   "cell_type": "markdown",
   "id": "6e33d941",
   "metadata": {},
   "source": []
  },
  {
   "cell_type": "markdown",
   "id": "4ae3e015",
   "metadata": {},
   "source": []
  },
  {
   "cell_type": "markdown",
   "id": "847b4edb",
   "metadata": {},
   "source": []
  },
  {
   "cell_type": "markdown",
   "id": "9025b361",
   "metadata": {},
   "source": []
  },
  {
   "cell_type": "markdown",
   "id": "2875fa93",
   "metadata": {},
   "source": []
  },
  {
   "cell_type": "markdown",
   "id": "4aafebb7",
   "metadata": {},
   "source": []
  },
  {
   "cell_type": "markdown",
   "id": "483ee3d1",
   "metadata": {},
   "source": []
  },
  {
   "cell_type": "markdown",
   "id": "e35a8774",
   "metadata": {},
   "source": []
  },
  {
   "cell_type": "markdown",
   "id": "6c460dec",
   "metadata": {},
   "source": []
  }
 ],
 "metadata": {
  "kernelspec": {
   "display_name": "Python 3 (ipykernel)",
   "language": "python",
   "name": "python3"
  },
  "language_info": {
   "codemirror_mode": {
    "name": "ipython",
    "version": 3
   },
   "file_extension": ".py",
   "mimetype": "text/x-python",
   "name": "python",
   "nbconvert_exporter": "python",
   "pygments_lexer": "ipython3",
   "version": "3.9.13"
  }
 },
 "nbformat": 4,
 "nbformat_minor": 5
}
