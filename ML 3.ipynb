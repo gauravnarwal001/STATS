{
 "cells": [
  {
   "cell_type": "markdown",
   "id": "7215ef49",
   "metadata": {},
   "source": [
    "1. What is regression analysis?\n",
    "# Regression analysis is a statistical method used to examine the relationship between a dependent variable and one or more independent variables. It helps in predicting the value of the dependent variable based on the values of the independent variables.\n"
   ]
  },
  {
   "cell_type": "markdown",
   "id": "60fb0fd5",
   "metadata": {},
   "source": [
    "2. Explain the difference between linear and nonlinear regression.\n",
    "# - **Linear Regression**: Assumes a linear relationship between the dependent and independent variables. The model is represented as a straight line.\n",
    "# - **Nonlinear Regression**: Assumes a nonlinear relationship between the dependent and independent variables. The model can be represented as a curve or more complex shapes.\n"
   ]
  },
  {
   "cell_type": "markdown",
   "id": "a239e974",
   "metadata": {},
   "source": [
    "3. What is the difference between simple linear regression and multiple linear regression?\n",
    "# - **Simple Linear Regression**: Involves only one independent variable to predict the dependent variable.\n",
    "# - **Multiple Linear Regression**: Involves two or more independent variables to predict the dependent variable.\n"
   ]
  },
  {
   "cell_type": "markdown",
   "id": "58a66567",
   "metadata": {},
   "source": [
    "4. How is the performance of a regression model typically evaluated?\n",
    "# The performance of a regression model is typically evaluated using metrics such as:\n",
    "# - Mean Squared Error (MSE)\n",
    "# - Root Mean Squared Error (RMSE)\n",
    "# - Mean Absolute Error (MAE)\n",
    "# - R-squared (R²)"
   ]
  },
  {
   "cell_type": "markdown",
   "id": "46b84195",
   "metadata": {},
   "source": [
    "5. What is overfitting in the context of regression models?\n",
    "# Overfitting occurs when a regression model learns the training data too well, capturing noise and outliers, which harms its performance on unseen data. This results in poor generalization.\n"
   ]
  },
  {
   "cell_type": "markdown",
   "id": "79ee32a7",
   "metadata": {},
   "source": [
    "6. What is logistic regression used for?\n",
    "# Logistic regression is used for binary classification tasks, where the goal is to predict the probability of an event occurring (e.g., yes/no, true/false).\n"
   ]
  },
  {
   "cell_type": "markdown",
   "id": "01279889",
   "metadata": {},
   "source": [
    "7. How does logistic regression differ from linear regression?\n",
    "# - **Linear Regression**: Predicts continuous values.\n",
    "# - **Logistic Regression**: Predicts probabilities and is used for classification tasks.\n"
   ]
  },
  {
   "cell_type": "markdown",
   "id": "d35546b3",
   "metadata": {},
   "source": [
    "8. Explain the concept of odds ratio in logistic regression.\n",
    "# The odds ratio in logistic regression represents the ratio of the odds of an event occurring in one group to the odds of it occurring in another group. It is used to measure the strength of association between variables."
   ]
  },
  {
   "cell_type": "markdown",
   "id": "b49c6e38",
   "metadata": {},
   "source": [
    "9. What is the sigmoid function in logistic regression?\n",
    "# The sigmoid function is an S-shaped curve that maps any real-valued number into a value between 0 and 1. It is used in logistic regression to predict probabilities.\n",
    "\n"
   ]
  },
  {
   "cell_type": "markdown",
   "id": "d3b68f1d",
   "metadata": {},
   "source": [
    "10. How is the performance of a logistic regression model evaluated?\n",
    "# The performance of a logistic regression model is evaluated using metrics such as:\n",
    "# - Accuracy\n",
    "# - Precision\n",
    "# - Recall\n",
    "# - F1-Score\n",
    "# - Area Under the ROC Curve (AUC-ROC)\n",
    "\n"
   ]
  },
  {
   "cell_type": "markdown",
   "id": "a75fccb6",
   "metadata": {},
   "source": [
    "11. What is a decision tree?\n",
    "# A decision tree is a supervised learning algorithm that splits the data into subsets based on the value of input features. It makes decisions by following a tree-like structure of decisions and their possible consequences."
   ]
  },
  {
   "cell_type": "markdown",
   "id": "38d45747",
   "metadata": {},
   "source": [
    "12. How does a decision tree make predictions?\n",
    "# A decision tree makes predictions by starting at the root node and following the splits based on the feature values until it reaches a leaf node, which contains the predicted value.\n"
   ]
  },
  {
   "cell_type": "markdown",
   "id": "7e84e97a",
   "metadata": {},
   "source": [
    "13. What is entropy in the context of decision trees?\n",
    "# Entropy is a measure of impurity or disorder in a dataset. In decision trees, it is used to determine the best split by minimizing the entropy of the resulting subsets.\n"
   ]
  },
  {
   "cell_type": "markdown",
   "id": "452f6208",
   "metadata": {},
   "source": [
    "14. What is pruning in decision trees?\n",
    "# Pruning is the process of removing unnecessary branches from a decision tree to reduce its complexity and prevent overfitting."
   ]
  },
  {
   "cell_type": "markdown",
   "id": "a2ad5deb",
   "metadata": {},
   "source": [
    "15. How do decision trees handle missing values?\n",
    "# Decision trees can handle missing values by using surrogate splits or by assigning the most common value to the missing data."
   ]
  },
  {
   "cell_type": "markdown",
   "id": "4dc20371",
   "metadata": {},
   "source": [
    "16. What is a support vector machine (SVM)?\n",
    "# A support vector machine (SVM) is a supervised learning algorithm used for classification and regression tasks. It works by finding the hyperplane that best separates the classes in the feature space."
   ]
  },
  {
   "cell_type": "markdown",
   "id": "14269462",
   "metadata": {},
   "source": [
    "17. Explain the concept of margin in SVM.\n",
    "# The margin in SVM is the distance between the hyperplane and the nearest data points from each class. The goal of SVM is to maximize this margin to improve generalization.\n"
   ]
  },
  {
   "cell_type": "markdown",
   "id": "9c3fa168",
   "metadata": {},
   "source": [
    " 18. What are support vectors in SVM?\n",
    "# Support vectors are the data points that lie closest to the hyperplane and influence the position and orientation of the hyperplane. They are critical in defining the margin."
   ]
  },
  {
   "cell_type": "markdown",
   "id": "2cd18e67",
   "metadata": {},
   "source": [
    " 19. How does SVM handle non-linearly separable data?\n",
    "# SVM handles non-linearly separable data by using kernel functions to transform the data into a higher-dimensional space where it becomes linearly separable."
   ]
  },
  {
   "cell_type": "markdown",
   "id": "001046f6",
   "metadata": {},
   "source": [
    " 20. What are the advantages of SVM over other classification algorithms?\n",
    "# - Effective in high-dimensional spaces.\n",
    "# - Works well with a clear margin of separation.\n",
    "# - Versatile through the use of different kernel functions."
   ]
  },
  {
   "cell_type": "markdown",
   "id": "5188f827",
   "metadata": {},
   "source": [
    " 21. What is the Naïve Bayes algorithm?\n",
    "# Naïve Bayes is a probabilistic classification algorithm based on Bayes' theorem. It assumes that the features are independent of each other given the class label.\n"
   ]
  },
  {
   "cell_type": "markdown",
   "id": "bccc651e",
   "metadata": {},
   "source": [
    " 22. Why is it called \"Naïve\" Bayes?\n",
    "# It is called \"Naïve\" because it makes a strong assumption that the features are independent of each other, which is often not true in real-world data."
   ]
  },
  {
   "cell_type": "markdown",
   "id": "d254ef54",
   "metadata": {},
   "source": [
    "23. How does Naïve Bayes handle continuous and categorical features?\n",
    "# - **Continuous Features**: Typically modeled using a Gaussian distribution.\n",
    "# - **Categorical Features**: Modeled using frequency counts."
   ]
  },
  {
   "cell_type": "markdown",
   "id": "d1316030",
   "metadata": {},
   "source": [
    "24. Explain the concept of prior and posterior probabilities in Naïve Bayes.\n",
    "# - **Prior Probability**: The probability of a class before observing any data.\n",
    "# - **Posterior Probability**: The probability of a class after observing the data.\n"
   ]
  },
  {
   "cell_type": "markdown",
   "id": "ca5b621b",
   "metadata": {},
   "source": [
    "25. What is Laplace smoothing and why is it used in Naïve Bayes?\n",
    "# Laplace smoothing is a technique used to handle zero probabilities in Naïve Bayes by adding a small value to the count of each feature. It prevents the model from assigning zero probability to unseen events."
   ]
  },
  {
   "cell_type": "markdown",
   "id": "e86fb800",
   "metadata": {},
   "source": [
    "26. Can Naïve Bayes be used for regression tasks?\n",
    "# No, Naïve Bayes is primarily used for classification tasks and is not suitable for regression.\n"
   ]
  },
  {
   "cell_type": "markdown",
   "id": "4443f4a8",
   "metadata": {},
   "source": [
    "27. How do you handle missing values in Naïve Bayes?\n",
    "# Missing values in Naïve Bayes can be handled by ignoring the missing values or by using imputation techniques."
   ]
  },
  {
   "cell_type": "markdown",
   "id": "e2111f59",
   "metadata": {},
   "source": [
    "28. What are some common applications of Naïve Bayes?\n",
    "# Common applications include spam filtering, text classification, and sentiment analysis.\n"
   ]
  },
  {
   "cell_type": "markdown",
   "id": "59bd3057",
   "metadata": {},
   "source": [
    "29. Explain the concept of feature independence assumption in Naïve Bayes.\n",
    "# The feature independence assumption in Naïve Bayes states that the features are conditionally independent given the class label. This simplifies the computation but may not hold true in real-world data.\n"
   ]
  },
  {
   "cell_type": "code",
   "execution_count": null,
   "id": "5f360c66",
   "metadata": {},
   "outputs": [],
   "source": []
  },
  {
   "cell_type": "code",
   "execution_count": null,
   "id": "20701728",
   "metadata": {},
   "outputs": [],
   "source": []
  },
  {
   "cell_type": "code",
   "execution_count": null,
   "id": "68769a54",
   "metadata": {},
   "outputs": [],
   "source": []
  },
  {
   "cell_type": "code",
   "execution_count": null,
   "id": "722572fb",
   "metadata": {},
   "outputs": [],
   "source": []
  },
  {
   "cell_type": "code",
   "execution_count": null,
   "id": "756391a9",
   "metadata": {},
   "outputs": [],
   "source": []
  }
 ],
 "metadata": {
  "kernelspec": {
   "display_name": "Python 3 (ipykernel)",
   "language": "python",
   "name": "python3"
  },
  "language_info": {
   "codemirror_mode": {
    "name": "ipython",
    "version": 3
   },
   "file_extension": ".py",
   "mimetype": "text/x-python",
   "name": "python",
   "nbconvert_exporter": "python",
   "pygments_lexer": "ipython3",
   "version": "3.9.13"
  }
 },
 "nbformat": 4,
 "nbformat_minor": 5
}
